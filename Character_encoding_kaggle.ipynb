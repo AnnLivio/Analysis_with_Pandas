{
 "cells": [
  {
   "cell_type": "markdown",
   "id": "c6d306d2",
   "metadata": {
    "papermill": {
     "duration": 0.004363,
     "end_time": "2024-10-14T14:28:52.124101",
     "exception": false,
     "start_time": "2024-10-14T14:28:52.119738",
     "status": "completed"
    },
    "tags": []
   },
   "source": [
    "**This notebook is an exercise in the [Data Cleaning](https://www.kaggle.com/learn/data-cleaning) course.  You can reference the tutorial at [this link](https://www.kaggle.com/alexisbcook/character-encodings).**\n",
    "\n",
    "---\n"
   ]
  },
  {
   "cell_type": "markdown",
   "id": "7400cac2",
   "metadata": {
    "papermill": {
     "duration": 0.003672,
     "end_time": "2024-10-14T14:28:52.132029",
     "exception": false,
     "start_time": "2024-10-14T14:28:52.128357",
     "status": "completed"
    },
    "tags": []
   },
   "source": [
    "In this exercise, you'll apply what you learned in the **Character encodings** tutorial.\n",
    "\n",
    "# Setup\n",
    "\n",
    "The questions below will give you feedback on your work. Run the following cell to set up the feedback system."
   ]
  },
  {
   "cell_type": "code",
   "execution_count": 1,
   "id": "a22e6196",
   "metadata": {
    "execution": {
     "iopub.execute_input": "2024-10-14T14:28:52.142056Z",
     "iopub.status.busy": "2024-10-14T14:28:52.141481Z",
     "iopub.status.idle": "2024-10-14T14:28:53.184851Z",
     "shell.execute_reply": "2024-10-14T14:28:53.183679Z"
    },
    "papermill": {
     "duration": 1.051418,
     "end_time": "2024-10-14T14:28:53.187398",
     "exception": false,
     "start_time": "2024-10-14T14:28:52.135980",
     "status": "completed"
    },
    "tags": []
   },
   "outputs": [
    {
     "name": "stdout",
     "output_type": "stream",
     "text": [
      "Setup Complete\n"
     ]
    }
   ],
   "source": [
    "from learntools.core import binder\n",
    "binder.bind(globals())\n",
    "from learntools.data_cleaning.ex4 import *\n",
    "print(\"Setup Complete\")"
   ]
  },
  {
   "cell_type": "markdown",
   "id": "f73d825f",
   "metadata": {
    "papermill": {
     "duration": 0.003718,
     "end_time": "2024-10-14T14:28:53.195476",
     "exception": false,
     "start_time": "2024-10-14T14:28:53.191758",
     "status": "completed"
    },
    "tags": []
   },
   "source": [
    "# Get our environment set up\n",
    "\n",
    "The first thing we'll need to do is load in the libraries we'll be using."
   ]
  },
  {
   "cell_type": "code",
   "execution_count": 2,
   "id": "a5bd89f3",
   "metadata": {
    "execution": {
     "iopub.execute_input": "2024-10-14T14:28:53.205349Z",
     "iopub.status.busy": "2024-10-14T14:28:53.204911Z",
     "iopub.status.idle": "2024-10-14T14:28:53.210477Z",
     "shell.execute_reply": "2024-10-14T14:28:53.209263Z"
    },
    "papermill": {
     "duration": 0.01337,
     "end_time": "2024-10-14T14:28:53.212890",
     "exception": false,
     "start_time": "2024-10-14T14:28:53.199520",
     "status": "completed"
    },
    "tags": []
   },
   "outputs": [],
   "source": [
    "# modules we'll use\n",
    "import pandas as pd\n",
    "import numpy as np\n",
    "\n",
    "# helpful character encoding module\n",
    "import charset_normalizer\n",
    "\n",
    "# set seed for reproducibility\n",
    "np.random.seed(0)"
   ]
  },
  {
   "cell_type": "markdown",
   "id": "e3a91f91",
   "metadata": {
    "papermill": {
     "duration": 0.003816,
     "end_time": "2024-10-14T14:28:53.220884",
     "exception": false,
     "start_time": "2024-10-14T14:28:53.217068",
     "status": "completed"
    },
    "tags": []
   },
   "source": [
    "# 1) What are encodings?\n",
    "\n",
    "You're working with a dataset composed of bytes.  Run the code cell below to print a sample entry."
   ]
  },
  {
   "cell_type": "code",
   "execution_count": 3,
   "id": "c5842010",
   "metadata": {
    "execution": {
     "iopub.execute_input": "2024-10-14T14:28:53.230517Z",
     "iopub.status.busy": "2024-10-14T14:28:53.230093Z",
     "iopub.status.idle": "2024-10-14T14:28:53.236374Z",
     "shell.execute_reply": "2024-10-14T14:28:53.235090Z"
    },
    "papermill": {
     "duration": 0.014086,
     "end_time": "2024-10-14T14:28:53.238935",
     "exception": false,
     "start_time": "2024-10-14T14:28:53.224849",
     "status": "completed"
    },
    "tags": []
   },
   "outputs": [
    {
     "name": "stdout",
     "output_type": "stream",
     "text": [
      "b'\\xa7A\\xa6n'\n",
      "data type: <class 'bytes'>\n"
     ]
    }
   ],
   "source": [
    "sample_entry = b'\\xa7A\\xa6n'\n",
    "print(sample_entry)\n",
    "print('data type:', type(sample_entry))"
   ]
  },
  {
   "cell_type": "markdown",
   "id": "1b788cda",
   "metadata": {
    "papermill": {
     "duration": 0.003858,
     "end_time": "2024-10-14T14:28:53.246948",
     "exception": false,
     "start_time": "2024-10-14T14:28:53.243090",
     "status": "completed"
    },
    "tags": []
   },
   "source": [
    "You notice that it doesn't use the standard UTF-8 encoding. \n",
    "\n",
    "Use the next code cell to create a variable `new_entry` that changes the encoding from `\"big5-tw\"` to `\"utf-8\"`.  `new_entry` should have the bytes datatype."
   ]
  },
  {
   "cell_type": "code",
   "execution_count": 4,
   "id": "7524de07",
   "metadata": {
    "execution": {
     "iopub.execute_input": "2024-10-14T14:28:53.257139Z",
     "iopub.status.busy": "2024-10-14T14:28:53.256689Z",
     "iopub.status.idle": "2024-10-14T14:28:53.267323Z",
     "shell.execute_reply": "2024-10-14T14:28:53.266241Z"
    },
    "papermill": {
     "duration": 0.018486,
     "end_time": "2024-10-14T14:28:53.269660",
     "exception": false,
     "start_time": "2024-10-14T14:28:53.251174",
     "status": "completed"
    },
    "tags": []
   },
   "outputs": [
    {
     "data": {
      "application/javascript": [
       "parent.postMessage({\"jupyterEvent\": \"custom.exercise_interaction\", \"data\": {\"outcomeType\": 1, \"valueTowardsCompletion\": 0.3333333333333333, \"interactionType\": 1, \"questionType\": 1, \"questionId\": \"1_EncodingsIntro\", \"learnToolsVersion\": \"0.3.4\", \"failureMessage\": \"\", \"exceptionClass\": \"\", \"trace\": \"\"}}, \"*\")"
      ],
      "text/plain": [
       "<IPython.core.display.Javascript object>"
      ]
     },
     "metadata": {},
     "output_type": "display_data"
    },
    {
     "data": {
      "text/markdown": [
       "<span style=\"color:#33cc33\">Correct</span>"
      ],
      "text/plain": [
       "Correct"
      ]
     },
     "metadata": {},
     "output_type": "display_data"
    }
   ],
   "source": [
    "before = sample_entry.decode(\"big5-tw\")\n",
    "new_entry = before.encode()\n",
    "\n",
    "# Check your answer\n",
    "q1.check()"
   ]
  },
  {
   "cell_type": "markdown",
   "id": "bdc87d12",
   "metadata": {
    "papermill": {
     "duration": 0.004304,
     "end_time": "2024-10-14T14:28:53.278449",
     "exception": false,
     "start_time": "2024-10-14T14:28:53.274145",
     "status": "completed"
    },
    "tags": []
   },
   "source": [
    "# 2) Reading in files with encoding problems\n",
    "\n",
    "Use the code cell below to read in this file at path `\"../input/fatal-police-shootings-in-the-us/PoliceKillingsUS.csv\"`.  \n",
    "\n",
    "Figure out what the correct encoding should be and read in the file to a DataFrame `police_killings`."
   ]
  },
  {
   "cell_type": "code",
   "execution_count": 5,
   "id": "902d19b2",
   "metadata": {
    "execution": {
     "iopub.execute_input": "2024-10-14T14:28:53.290121Z",
     "iopub.status.busy": "2024-10-14T14:28:53.289691Z",
     "iopub.status.idle": "2024-10-14T14:28:53.315267Z",
     "shell.execute_reply": "2024-10-14T14:28:53.314199Z"
    },
    "papermill": {
     "duration": 0.033793,
     "end_time": "2024-10-14T14:28:53.317589",
     "exception": false,
     "start_time": "2024-10-14T14:28:53.283796",
     "status": "completed"
    },
    "tags": []
   },
   "outputs": [
    {
     "data": {
      "application/javascript": [
       "parent.postMessage({\"jupyterEvent\": \"custom.exercise_interaction\", \"data\": {\"outcomeType\": 1, \"valueTowardsCompletion\": 0.3333333333333333, \"interactionType\": 1, \"questionType\": 1, \"questionId\": \"2_ReadIn\", \"learnToolsVersion\": \"0.3.4\", \"failureMessage\": \"\", \"exceptionClass\": \"\", \"trace\": \"\"}}, \"*\")"
      ],
      "text/plain": [
       "<IPython.core.display.Javascript object>"
      ]
     },
     "metadata": {},
     "output_type": "display_data"
    },
    {
     "data": {
      "text/markdown": [
       "<span style=\"color:#33cc33\">Correct</span>"
      ],
      "text/plain": [
       "Correct"
      ]
     },
     "metadata": {},
     "output_type": "display_data"
    }
   ],
   "source": [
    "# TODO: Load in the DataFrame correctly.\n",
    "police_killings = pd.read_csv(\"../input/fatal-police-shootings-in-the-us/PoliceKillingsUS.csv\", encoding='Windows-1252')\n",
    "\n",
    "\n",
    "# Check your answer\n",
    "q2.check()"
   ]
  },
  {
   "cell_type": "markdown",
   "id": "dc8738b6",
   "metadata": {
    "papermill": {
     "duration": 0.004361,
     "end_time": "2024-10-14T14:28:53.326595",
     "exception": false,
     "start_time": "2024-10-14T14:28:53.322234",
     "status": "completed"
    },
    "tags": []
   },
   "source": [
    "Feel free to use any additional code cells for supplemental work.  To get credit for finishing this question, you'll need to run `q2.check()` and get a result of **Correct**."
   ]
  },
  {
   "cell_type": "markdown",
   "id": "7e7dc72f",
   "metadata": {
    "papermill": {
     "duration": 0.004277,
     "end_time": "2024-10-14T14:28:53.335627",
     "exception": false,
     "start_time": "2024-10-14T14:28:53.331350",
     "status": "completed"
    },
    "tags": []
   },
   "source": [
    "# 3) Saving your files with UTF-8 encoding\n",
    "\n",
    "Save a version of the police killings dataset to CSV with UTF-8 encoding.  Your answer will be marked correct after saving this file.  \n",
    "\n",
    "Note: When using the `to_csv()` method, supply only the name of the file (e.g., `\"my_file.csv\"`).  This saves the file at the filepath `\"/kaggle/working/my_file.csv\"`."
   ]
  },
  {
   "cell_type": "code",
   "execution_count": 6,
   "id": "e44fb85d",
   "metadata": {
    "execution": {
     "iopub.execute_input": "2024-10-14T14:28:53.346487Z",
     "iopub.status.busy": "2024-10-14T14:28:53.346092Z",
     "iopub.status.idle": "2024-10-14T14:28:53.385839Z",
     "shell.execute_reply": "2024-10-14T14:28:53.384727Z"
    },
    "papermill": {
     "duration": 0.048276,
     "end_time": "2024-10-14T14:28:53.388528",
     "exception": false,
     "start_time": "2024-10-14T14:28:53.340252",
     "status": "completed"
    },
    "tags": []
   },
   "outputs": [
    {
     "data": {
      "application/javascript": [
       "parent.postMessage({\"jupyterEvent\": \"custom.exercise_interaction\", \"data\": {\"outcomeType\": 1, \"valueTowardsCompletion\": 0.3333333333333333, \"interactionType\": 1, \"questionType\": 2, \"questionId\": \"3_SaveCSV\", \"learnToolsVersion\": \"0.3.4\", \"failureMessage\": \"\", \"exceptionClass\": \"\", \"trace\": \"\"}}, \"*\")"
      ],
      "text/plain": [
       "<IPython.core.display.Javascript object>"
      ]
     },
     "metadata": {},
     "output_type": "display_data"
    },
    {
     "data": {
      "text/markdown": [
       "<span style=\"color:#33cc33\">Correct</span>"
      ],
      "text/plain": [
       "Correct"
      ]
     },
     "metadata": {},
     "output_type": "display_data"
    }
   ],
   "source": [
    "# TODO: Save the police killings dataset to CSV\n",
    "\n",
    "police_killings.to_csv(\"my_file-utf8.csv\")\n",
    "\n",
    "# Check your answer\n",
    "q3.check()"
   ]
  },
  {
   "cell_type": "markdown",
   "id": "0849e3d9",
   "metadata": {
    "papermill": {
     "duration": 0.004599,
     "end_time": "2024-10-14T14:28:53.398179",
     "exception": false,
     "start_time": "2024-10-14T14:28:53.393580",
     "status": "completed"
    },
    "tags": []
   },
   "source": [
    "# (Optional) More practice\n",
    "\n",
    "Check out [this dataset of files in different character encodings](https://www.kaggle.com/rtatman/character-encoding-examples). Can you read in all the files with their original encodings and them save them out as UTF-8 files?\n",
    "\n",
    "If you have a file that's in UTF-8 but has just a couple of weird-looking characters in it, you can try out the [ftfy module](https://ftfy.readthedocs.io/en/latest/#) and see if it helps. \n",
    "\n",
    "# Keep going\n",
    "\n",
    "In the final lesson, learn how to [**clean up inconsistent text entries**](https://www.kaggle.com/alexisbcook/inconsistent-data-entry) in your dataset."
   ]
  },
  {
   "cell_type": "markdown",
   "id": "93d8db7b",
   "metadata": {
    "papermill": {
     "duration": 0.004466,
     "end_time": "2024-10-14T14:28:53.407447",
     "exception": false,
     "start_time": "2024-10-14T14:28:53.402981",
     "status": "completed"
    },
    "tags": []
   },
   "source": [
    "---\n",
    "\n",
    "\n",
    "\n",
    "\n",
    "*Have questions or comments? Visit the [course discussion forum](https://www.kaggle.com/learn/data-cleaning/discussion) to chat with other learners.*"
   ]
  }
 ],
 "metadata": {
  "kaggle": {
   "accelerator": "none",
   "dataSources": [
    {
     "datasetId": 2647,
     "sourceId": 4395,
     "sourceType": "datasetVersion"
    }
   ],
   "isGpuEnabled": false,
   "isInternetEnabled": false,
   "language": "python",
   "sourceType": "notebook"
  },
  "kernelspec": {
   "display_name": "Python 3",
   "language": "python",
   "name": "python3"
  },
  "language_info": {
   "codemirror_mode": {
    "name": "ipython",
    "version": 3
   },
   "file_extension": ".py",
   "mimetype": "text/x-python",
   "name": "python",
   "nbconvert_exporter": "python",
   "pygments_lexer": "ipython3",
   "version": "3.10.14"
  },
  "papermill": {
   "default_parameters": {},
   "duration": 4.553044,
   "end_time": "2024-10-14T14:28:53.935156",
   "environment_variables": {},
   "exception": null,
   "input_path": "__notebook__.ipynb",
   "output_path": "__notebook__.ipynb",
   "parameters": {},
   "start_time": "2024-10-14T14:28:49.382112",
   "version": "2.6.0"
  }
 },
 "nbformat": 4,
 "nbformat_minor": 5
}
